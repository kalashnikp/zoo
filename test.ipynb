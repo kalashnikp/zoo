{
 "cells": [
  {
   "cell_type": "code",
   "execution_count": 15,
   "metadata": {},
   "outputs": [
    {
     "ename": "TypeError",
     "evalue": "Qwerty.__init__() missing 1 required positional argument: 'name'",
     "output_type": "error",
     "traceback": [
      "\u001b[1;31m---------------------------------------------------------------------------\u001b[0m",
      "\u001b[1;31mTypeError\u001b[0m                                 Traceback (most recent call last)",
      "Cell \u001b[1;32mIn[15], line 21\u001b[0m\n\u001b[0;32m     17\u001b[0m         \u001b[39mprint\u001b[39m(\u001b[39mf\u001b[39m\u001b[39m'\u001b[39m\u001b[39mnew qwerty is created\u001b[39m\u001b[39m'\u001b[39m)\n\u001b[0;32m     18\u001b[0m         \u001b[39mreturn\u001b[39;00m \u001b[39mlist\u001b[39m\u001b[39m.\u001b[39mappend(i\u001b[39m.\u001b[39mname())\n\u001b[1;32m---> 21\u001b[0m asd \u001b[39m=\u001b[39m Qwerty(\u001b[39m1\u001b[39;49m)\n\u001b[0;32m     22\u001b[0m asd\u001b[39m.\u001b[39mnew_qwerty()\n\u001b[0;32m     23\u001b[0m \u001b[39mprint\u001b[39m(\u001b[39mlist\u001b[39m)\n",
      "\u001b[1;31mTypeError\u001b[0m: Qwerty.__init__() missing 1 required positional argument: 'name'"
     ]
    }
   ],
   "source": [
    "import random\n",
    "\n",
    "list = []\n",
    "\n",
    "class Qwerty():\n",
    "\n",
    "    def __init__(self, energy, name):\n",
    "        self.energy = energy\n",
    "        self.name = name\n",
    "\n",
    "    def sleep(self):\n",
    "        self.energy += 1\n",
    "        return self.energy\n",
    "    \n",
    "    def new_qwerty(self):\n",
    "        global list\n",
    "        i = Qwerty(random.randint(1,10))\n",
    "        print(f'new qwerty is created')\n",
    "        return list.append(i.name())\n",
    "    \n",
    "\n",
    "asd = Qwerty(1,)\n",
    "asd.new_qwerty()\n",
    "print(list)"
   ]
  }
 ],
 "metadata": {
  "kernelspec": {
   "display_name": "Python 3",
   "language": "python",
   "name": "python3"
  },
  "language_info": {
   "codemirror_mode": {
    "name": "ipython",
    "version": 3
   },
   "file_extension": ".py",
   "mimetype": "text/x-python",
   "name": "python",
   "nbconvert_exporter": "python",
   "pygments_lexer": "ipython3",
   "version": "3.10.10"
  },
  "orig_nbformat": 4
 },
 "nbformat": 4,
 "nbformat_minor": 2
}
