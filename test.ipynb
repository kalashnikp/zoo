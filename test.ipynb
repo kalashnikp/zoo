{
 "cells": [
  {
   "cell_type": "code",
   "execution_count": 213,
   "metadata": {},
   "outputs": [
    {
     "name": "stdout",
     "output_type": "stream",
     "text": [
      "[1, 2, 3, 4, 5]\n"
     ]
    }
   ],
   "source": [
    "import random \n",
    "\n",
    "zoo = [1,2,3,4,5]\n",
    "\n",
    "for item in zoo:\n",
    "\n",
    "    b = random.choices([True, False], weights=[0.9, 0.1])\n",
    "        \n",
    "    if b == True:\n",
    "        zoo.append(item)\n",
    "\n",
    "\n",
    "print(zoo)\n"
   ]
  }
 ],
 "metadata": {
  "kernelspec": {
   "display_name": "Python 3",
   "language": "python",
   "name": "python3"
  },
  "language_info": {
   "codemirror_mode": {
    "name": "ipython",
    "version": 3
   },
   "file_extension": ".py",
   "mimetype": "text/x-python",
   "name": "python",
   "nbconvert_exporter": "python",
   "pygments_lexer": "ipython3",
   "version": "3.10.10"
  },
  "orig_nbformat": 4
 },
 "nbformat": 4,
 "nbformat_minor": 2
}
