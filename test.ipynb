{
 "cells": [
  {
   "cell_type": "code",
   "execution_count": 39,
   "metadata": {},
   "outputs": [
    {
     "name": "stdout",
     "output_type": "stream",
     "text": [
      "False\n",
      "False\n",
      "False\n",
      "False\n",
      "False\n",
      "False\n",
      "False\n",
      "False\n",
      "False\n",
      "False\n",
      "False\n",
      "False\n"
     ]
    }
   ],
   "source": [
    "from animal import Animal\n",
    "from instances import Bird, Fish, Dog\n",
    "import random\n",
    "\n",
    "# def produce_offspring(self):\n",
    "#         '''Функция производства потомства / to produce offspring function'''\n",
    "\n",
    "\n",
    "zoo = [\n",
    "        Bird(),\n",
    "        Bird(),\n",
    "        Bird(),\n",
    "        Bird(),\n",
    "        Bird(),\n",
    "        Fish(),\n",
    "        Fish(),\n",
    "        Fish(),\n",
    "        Dog(),\n",
    "        Dog(),\n",
    "        Animal(random.randint(1,5), random.randint(1,5), random.randint(1,5), 'Animal'),\n",
    "        Animal(random.randint(1,5), random.randint(1,5), random.randint(1,5), 'Animal')\n",
    "    ]\n",
    "\n",
    "\n",
    "for item in zoo:\n",
    "    print(item.is_too_old())\n",
    "    \n",
    "\n",
    "\n",
    "\n",
    "# def do_something():\n",
    "        \n",
    "#     for item in zoo:\n",
    "#         if item.is_too_old >= item.max_age:\n",
    "#             print(f'is too old')\n",
    "        \n",
    "        \n",
    "# do_something()"
   ]
  }
 ],
 "metadata": {
  "kernelspec": {
   "display_name": "Python 3",
   "language": "python",
   "name": "python3"
  },
  "language_info": {
   "codemirror_mode": {
    "name": "ipython",
    "version": 3
   },
   "file_extension": ".py",
   "mimetype": "text/x-python",
   "name": "python",
   "nbconvert_exporter": "python",
   "pygments_lexer": "ipython3",
   "version": "3.10.10"
  },
  "orig_nbformat": 4
 },
 "nbformat": 4,
 "nbformat_minor": 2
}
