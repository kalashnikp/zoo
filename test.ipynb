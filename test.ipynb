{
 "cells": [
  {
   "cell_type": "code",
   "execution_count": 47,
   "metadata": {},
   "outputs": [
    {
     "name": "stdout",
     "output_type": "stream",
     "text": [
      "[1, 2, 3, 4, 5, 6, 7, 8, 9, 10, 5, 7, 5, 2, 8, 6, 1, 3, 4, 2, 10, 5, 6, 8, 10, 6, 9, 5, 4, 8] 30\n",
      "[5, 7, 5, 2, 8, 6, 1, 3, 4, 2, 10, 5, 6, 8, 10, 6, 9, 5, 4, 8] 20\n"
     ]
    }
   ],
   "source": [
    "import random\n",
    "\n",
    "\n",
    "\n",
    "list = [1, 2, 3, 4, 5, 6, 7, 8, 9, 10]\n",
    "new_list = []\n",
    "\n",
    "i = 0\n",
    "\n",
    "def add_numbers():\n",
    "    for items in list:\n",
    "        a = random.choices([1,0], weights=[0.2, 0.8])\n",
    "        b = int(''.join(map(str, a)))\n",
    "        c = bool(b)\n",
    "        \n",
    "        if c == True:\n",
    "            new_list.append(items)\n",
    "\n",
    "while i <=10:\n",
    "    add_numbers()\n",
    "    i += 1\n",
    "\n",
    "list += new_list\n",
    "\n",
    "print(list, len(list))\n",
    "print(new_list, len(new_list))\n",
    "\n"
   ]
  }
 ],
 "metadata": {
  "kernelspec": {
   "display_name": "Python 3",
   "language": "python",
   "name": "python3"
  },
  "language_info": {
   "codemirror_mode": {
    "name": "ipython",
    "version": 3
   },
   "file_extension": ".py",
   "mimetype": "text/x-python",
   "name": "python",
   "nbconvert_exporter": "python",
   "pygments_lexer": "ipython3",
   "version": "3.10.10"
  },
  "orig_nbformat": 4
 },
 "nbformat": 4,
 "nbformat_minor": 2
}
