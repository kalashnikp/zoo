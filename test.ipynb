{
 "cells": [
  {
   "cell_type": "code",
   "execution_count": 46,
   "metadata": {},
   "outputs": [
    {
     "name": "stdout",
     "output_type": "stream",
     "text": [
      "[1, 2, 3, 4, 5, 2, 3]\n",
      "[2, 3]\n",
      "False <class 'bool'>\n"
     ]
    }
   ],
   "source": [
    "import random\n",
    "\n",
    "zoo = [1,2,3,4,5]\n",
    "new_zoo = []\n",
    "\n",
    "for items in (zoo):\n",
    "    a = random.choices([1, 0], weights=[0.25, 0.75])\n",
    "    b = int(''.join(map(str,a)))\n",
    "    c = bool(b)\n",
    "    \n",
    "    if c == True:\n",
    "        new_zoo.append(items)\n",
    "\n",
    "zoo += new_zoo\n",
    "\n",
    "print(zoo)\n",
    "print(new_zoo)\n",
    "print(c, type(c))\n"
   ]
  }
 ],
 "metadata": {
  "kernelspec": {
   "display_name": "Python 3",
   "language": "python",
   "name": "python3"
  },
  "language_info": {
   "codemirror_mode": {
    "name": "ipython",
    "version": 3
   },
   "file_extension": ".py",
   "mimetype": "text/x-python",
   "name": "python",
   "nbconvert_exporter": "python",
   "pygments_lexer": "ipython3",
   "version": "3.10.10"
  },
  "orig_nbformat": 4
 },
 "nbformat": 4,
 "nbformat_minor": 2
}
