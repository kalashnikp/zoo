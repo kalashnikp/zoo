{
 "cells": [
  {
   "cell_type": "code",
   "execution_count": 8,
   "metadata": {},
   "outputs": [
    {
     "ename": "TypeError",
     "evalue": "Bird.__init__() missing 4 required positional arguments: 'energy', 'weight', 'max_age', and 'name'",
     "output_type": "error",
     "traceback": [
      "\u001b[1;31m---------------------------------------------------------------------------\u001b[0m",
      "\u001b[1;31mTypeError\u001b[0m                                 Traceback (most recent call last)",
      "Cell \u001b[1;32mIn[8], line 10\u001b[0m\n\u001b[0;32m      3\u001b[0m \u001b[39mimport\u001b[39;00m \u001b[39mrandom\u001b[39;00m\n\u001b[0;32m      5\u001b[0m \u001b[39m# def produce_offspring(self):\u001b[39;00m\n\u001b[0;32m      6\u001b[0m \u001b[39m#         '''Функция производства потомства / to produce offspring function'''\u001b[39;00m\n\u001b[0;32m      9\u001b[0m zoo \u001b[39m=\u001b[39m (\n\u001b[1;32m---> 10\u001b[0m         Bird(),\n\u001b[0;32m     11\u001b[0m         Bird(),\n\u001b[0;32m     12\u001b[0m         Bird(),\n\u001b[0;32m     13\u001b[0m         Bird(),\n\u001b[0;32m     14\u001b[0m         Bird(),\n\u001b[0;32m     15\u001b[0m         Fish(),\n\u001b[0;32m     16\u001b[0m         Fish(),\n\u001b[0;32m     17\u001b[0m         Fish(),\n\u001b[0;32m     18\u001b[0m         Dog(),\n\u001b[0;32m     19\u001b[0m         Dog(),\n\u001b[0;32m     20\u001b[0m         Animal(random\u001b[39m.\u001b[39mrandint(\u001b[39m1\u001b[39m,\u001b[39m5\u001b[39m), random\u001b[39m.\u001b[39mrandint(\u001b[39m1\u001b[39m,\u001b[39m5\u001b[39m), random\u001b[39m.\u001b[39mrandint(\u001b[39m1\u001b[39m,\u001b[39m5\u001b[39m), \u001b[39m'\u001b[39m\u001b[39mAnimal\u001b[39m\u001b[39m'\u001b[39m),\n\u001b[0;32m     21\u001b[0m         Animal(random\u001b[39m.\u001b[39mrandint(\u001b[39m1\u001b[39m,\u001b[39m5\u001b[39m), random\u001b[39m.\u001b[39mrandint(\u001b[39m1\u001b[39m,\u001b[39m5\u001b[39m), random\u001b[39m.\u001b[39mrandint(\u001b[39m1\u001b[39m,\u001b[39m5\u001b[39m), \u001b[39m'\u001b[39m\u001b[39mAnimal\u001b[39m\u001b[39m'\u001b[39m)\n\u001b[0;32m     22\u001b[0m     )\n\u001b[0;32m     25\u001b[0m probability \u001b[39m=\u001b[39m random\u001b[39m.\u001b[39mchoice([\u001b[39mTrue\u001b[39;00m, \u001b[39mFalse\u001b[39;00m])\n\u001b[0;32m     26\u001b[0m i \u001b[39m=\u001b[39m \u001b[39m0\u001b[39m\n",
      "\u001b[1;31mTypeError\u001b[0m: Bird.__init__() missing 4 required positional arguments: 'energy', 'weight', 'max_age', and 'name'"
     ]
    }
   ],
   "source": [
    "from animal import Animal\n",
    "from instances import Bird, Fish, Dog\n",
    "import random\n",
    "\n",
    "# def produce_offspring(self):\n",
    "#         '''Функция производства потомства / to produce offspring function'''\n",
    "\n",
    "\n",
    "zoo = (\n",
    "        Bird(),\n",
    "        Bird(),\n",
    "        Bird(),\n",
    "        Bird(),\n",
    "        Bird(),\n",
    "        Fish(),\n",
    "        Fish(),\n",
    "        Fish(),\n",
    "        Dog(),\n",
    "        Dog(),\n",
    "        Animal(random.randint(1,5), random.randint(1,5), random.randint(1,5), 'Animal'),\n",
    "        Animal(random.randint(1,5), random.randint(1,5), random.randint(1,5), 'Animal')\n",
    "    )\n",
    "\n",
    "        \n",
    "probability = random.choice([True, False])\n",
    "i = 0\n",
    "\n",
    "if probability == True:\n",
    "    while i <= 10: \n",
    "        b = random.choise([Animal(), Bird(), Fish(), Dog()])\n",
    "        zoo.append(b)\n",
    "        i += 1\n",
    "    \n",
    "    \n",
    "print(len(zoo))\n",
    "\n"
   ]
  }
 ],
 "metadata": {
  "kernelspec": {
   "display_name": "Python 3",
   "language": "python",
   "name": "python3"
  },
  "language_info": {
   "codemirror_mode": {
    "name": "ipython",
    "version": 3
   },
   "file_extension": ".py",
   "mimetype": "text/x-python",
   "name": "python",
   "nbconvert_exporter": "python",
   "pygments_lexer": "ipython3",
   "version": "3.10.10"
  },
  "orig_nbformat": 4
 },
 "nbformat": 4,
 "nbformat_minor": 2
}
