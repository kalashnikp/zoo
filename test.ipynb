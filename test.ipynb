{
 "cells": [
  {
   "cell_type": "code",
   "execution_count": 226,
   "metadata": {},
   "outputs": [
    {
     "name": "stdout",
     "output_type": "stream",
     "text": [
      "Bird\n",
      "Bird\n",
      "Bird\n",
      "Bird\n",
      "Bird\n",
      "Fish\n",
      "Fish\n",
      "Fish\n",
      "Dog\n",
      "Dog\n",
      "Animal\n",
      "Animal\n",
      "Fish\n",
      "Dog\n",
      "Animal\n",
      "Animal\n",
      "Fish\n",
      "Animal\n",
      "18\n"
     ]
    }
   ],
   "source": [
    "from animal import Animal\n",
    "from instances import Bird, Fish, Dog\n",
    "import random\n",
    "\n",
    "# def produce_offspring(self):\n",
    "#         '''Функция производства потомства / to produce offspring function'''\n",
    "\n",
    "\n",
    "zoo = [\n",
    "        Bird(),\n",
    "        Bird(),\n",
    "        Bird(),\n",
    "        Bird(),\n",
    "        Bird(),\n",
    "        Fish(),\n",
    "        Fish(),\n",
    "        Fish(),\n",
    "        Dog(),\n",
    "        Dog(),\n",
    "        Animal(random.randint(1,5), random.randint(1,5), random.randint(1,5), 'Animal'),\n",
    "        Animal(random.randint(1,5), random.randint(1,5), random.randint(1,5), 'Animal')\n",
    "    ]\n",
    "\n",
    "\n",
    "\n",
    "def new_zoo():\n",
    "         \n",
    "    def prob():\n",
    "        global b\n",
    "        b = random.choice([True, False])\n",
    "        return b\n",
    "    \n",
    "        \n",
    "    i = 0    \n",
    "    while i < 10: \n",
    "        prob()\n",
    "        if b == True:\n",
    "            q = random.choice([Animal(random.randint(1,5), random.randint(1,5), random.randint(1,5), 'Animal'), Bird(), Fish(), Dog()])\n",
    "            zoo.append(q)\n",
    "        i += 1    \n",
    "        \n",
    "\n",
    "new_zoo()\n",
    "\n",
    "for i in zoo:\n",
    "    print(i.name)\n",
    "\n",
    "print(len(zoo))\n"
   ]
  }
 ],
 "metadata": {
  "kernelspec": {
   "display_name": "Python 3",
   "language": "python",
   "name": "python3"
  },
  "language_info": {
   "codemirror_mode": {
    "name": "ipython",
    "version": 3
   },
   "file_extension": ".py",
   "mimetype": "text/x-python",
   "name": "python",
   "nbconvert_exporter": "python",
   "pygments_lexer": "ipython3",
   "version": "3.10.10"
  },
  "orig_nbformat": 4
 },
 "nbformat": 4,
 "nbformat_minor": 2
}
